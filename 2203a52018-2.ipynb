{
  "cells": [
    {
      "cell_type": "code",
      "execution_count": 65,
      "metadata": {
        "id": "QGA5UK2vO1MV"
      },
      "outputs": [],
      "source": [
        "#Question1\n",
        "import pandas as pd\n",
        "import numpy as np\n",
        "from sklearn.preprocessing import MinMaxScaler, OneHotEncoder"
      ]
    },
    {
      "cell_type": "code",
      "execution_count": 26,
      "metadata": {
        "id": "0rDLzK0kPnh7"
      },
      "outputs": [],
      "source": [
        "data = {\n",
        "    'Gender': [1, 1, 1, 1, 1, 1, 1, 1, 1, 2, 2, 2, 2, 2, 2, 2],\n",
        "    'Age': [1, 1, 1, 1, 1, 1, 1, 1, 2, 2, 2, 2, 2, 2, 2, 2],\n",
        "    'Range': [4512, 3738, 4261, 3777, 4177, 3585, 3785, 3559, 3613, 3982, 3443, 3993, 3640, 4208, 3832, 0],\n",
        "    'Head Size': [1530, 1297, 1335, 1282, 1590, 1300, 1400, 1255, 1355, 1375, 1340, 1380, 1355, 1522, 1208, 0],\n",
        "    'Brain Weight': [1, 1, 1, 1, 1, 1, 1, 1, 2, 2, 2, 2, 2, 2, 2, 0]\n",
        "}"
      ]
    },
    {
      "cell_type": "code",
      "execution_count": 27,
      "metadata": {
        "id": "Kowo7mYIRfGs"
      },
      "outputs": [],
      "source": [
        "df = pd.DataFrame(data)"
      ]
    },
    {
      "cell_type": "code",
      "execution_count": 28,
      "metadata": {
        "id": "JXKRn5DFRrDR"
      },
      "outputs": [],
      "source": [
        "scaler = MinMaxScaler()\n",
        "df_scaled = pd.DataFrame(scaler.fit_transform(df), columns=df.columns)"
      ]
    },
    {
      "cell_type": "code",
      "execution_count": 29,
      "metadata": {
        "colab": {
          "base_uri": "https://localhost:8080/"
        },
        "id": "6nw1WopISNec",
        "outputId": "654b88d6-4327-46f6-ad67-7ea1b650260c"
      },
      "outputs": [
        {
          "output_type": "stream",
          "name": "stdout",
          "text": [
            "    Gender  Age     Range  Head Size  Brain Weight\n",
            "0      0.0  0.0  1.000000   0.962264           0.5\n",
            "1      0.0  0.0  0.828457   0.815723           0.5\n",
            "2      0.0  0.0  0.944371   0.839623           0.5\n",
            "3      0.0  0.0  0.837101   0.806289           0.5\n",
            "4      0.0  0.0  0.925754   1.000000           0.5\n",
            "5      0.0  0.0  0.794548   0.817610           0.5\n",
            "6      0.0  0.0  0.838874   0.880503           0.5\n",
            "7      0.0  0.0  0.788785   0.789308           0.5\n",
            "8      0.0  1.0  0.800754   0.852201           1.0\n",
            "9      1.0  1.0  0.882535   0.864780           1.0\n",
            "10     1.0  1.0  0.763076   0.842767           1.0\n",
            "11     1.0  1.0  0.884973   0.867925           1.0\n",
            "12     1.0  1.0  0.806738   0.852201           1.0\n",
            "13     1.0  1.0  0.932624   0.957233           1.0\n",
            "14     1.0  1.0  0.849291   0.759748           1.0\n",
            "15     1.0  1.0  0.000000   0.000000           0.0\n"
          ]
        }
      ],
      "source": [
        "print(df_scaled)"
      ]
    },
    {
      "cell_type": "code",
      "execution_count": 30,
      "metadata": {
        "colab": {
          "base_uri": "https://localhost:8080/"
        },
        "id": "p4hd_7bASRJ3",
        "outputId": "a45263c2-7dd1-4261-ed54-2b679b92a992"
      },
      "outputs": [
        {
          "output_type": "stream",
          "name": "stdout",
          "text": [
            "          longitude      latitude  housing_median_age   total_rooms  \\\n",
            "count  20640.000000  20640.000000        20640.000000  20640.000000   \n",
            "mean    -119.569704     35.631861           28.639486   2635.763081   \n",
            "std        2.003532      2.135952           12.585558   2181.615252   \n",
            "min     -124.350000     32.540000            1.000000      2.000000   \n",
            "25%     -121.800000     33.930000           18.000000   1447.750000   \n",
            "50%     -118.490000     34.260000           29.000000   2127.000000   \n",
            "75%     -118.010000     37.710000           37.000000   3148.000000   \n",
            "max     -114.310000     41.950000           52.000000  39320.000000   \n",
            "\n",
            "       total_bedrooms    population    households  median_income  \\\n",
            "count    20433.000000  20640.000000  20640.000000   20640.000000   \n",
            "mean       537.870553   1425.476744    499.539680       3.870671   \n",
            "std        421.385070   1132.462122    382.329753       1.899822   \n",
            "min          1.000000      3.000000      1.000000       0.499900   \n",
            "25%        296.000000    787.000000    280.000000       2.563400   \n",
            "50%        435.000000   1166.000000    409.000000       3.534800   \n",
            "75%        647.000000   1725.000000    605.000000       4.743250   \n",
            "max       6445.000000  35682.000000   6082.000000      15.000100   \n",
            "\n",
            "       median_house_value  \n",
            "count        20640.000000  \n",
            "mean        206855.816909  \n",
            "std         115395.615874  \n",
            "min          14999.000000  \n",
            "25%         119600.000000  \n",
            "50%         179700.000000  \n",
            "75%         264725.000000  \n",
            "max         500001.000000  \n"
          ]
        }
      ],
      "source": [
        "#Question2\n",
        "data = pd.read_csv('housing.csv')\n",
        "print(data.describe())"
      ]
    },
    {
      "cell_type": "code",
      "execution_count": 31,
      "metadata": {
        "colab": {
          "base_uri": "https://localhost:8080/"
        },
        "id": "MqsY1nBZSjLZ",
        "outputId": "36ca79eb-521d-4932-e577-b4f542f57805"
      },
      "outputs": [
        {
          "output_type": "stream",
          "name": "stdout",
          "text": [
            "Data Types:\n",
            "longitude             float64\n",
            "latitude              float64\n",
            "housing_median_age    float64\n",
            "total_rooms           float64\n",
            "total_bedrooms        float64\n",
            "population            float64\n",
            "households            float64\n",
            "median_income         float64\n",
            "median_house_value    float64\n",
            "ocean_proximity        object\n",
            "dtype: object\n",
            "\n",
            "Shape of Data:\n",
            "(20640, 10)\n"
          ]
        }
      ],
      "source": [
        "print(\"Data Types:\")\n",
        "print(data.dtypes)\n",
        "print(\"\\nShape of Data:\")\n",
        "print(data.shape)"
      ]
    },
    {
      "cell_type": "code",
      "execution_count": 32,
      "metadata": {
        "colab": {
          "base_uri": "https://localhost:8080/"
        },
        "id": "rYx5DO4vTzN7",
        "outputId": "5611b234-c41e-4486-a627-b1b3e3fa9169"
      },
      "outputs": [
        {
          "output_type": "stream",
          "name": "stdout",
          "text": [
            "\n",
            "Null Values:\n",
            "longitude               0\n",
            "latitude                0\n",
            "housing_median_age      0\n",
            "total_rooms             0\n",
            "total_bedrooms        207\n",
            "population              0\n",
            "households              0\n",
            "median_income           0\n",
            "median_house_value      0\n",
            "ocean_proximity         0\n",
            "dtype: int64\n"
          ]
        }
      ],
      "source": [
        "null_values = data.isnull().sum()\n",
        "print(\"\\nNull Values:\")\n",
        "print(null_values)"
      ]
    },
    {
      "cell_type": "code",
      "execution_count": 33,
      "metadata": {
        "colab": {
          "base_uri": "https://localhost:8080/"
        },
        "id": "I6RP1fhoT6C3",
        "outputId": "edd55701-f859-4e0d-8486-2b3eb6f452cc"
      },
      "outputs": [
        {
          "output_type": "stream",
          "name": "stderr",
          "text": [
            "<ipython-input-33-5d00d3f5cd77>:1: FutureWarning: The default value of numeric_only in DataFrame.mean is deprecated. In a future version, it will default to False. In addition, specifying 'numeric_only=None' is deprecated. Select only valid columns or specify the value of numeric_only to silence this warning.\n",
            "  data_filled = data.fillna(data.mean())\n"
          ]
        }
      ],
      "source": [
        "data_filled = data.fillna(data.mean())"
      ]
    },
    {
      "cell_type": "code",
      "execution_count": 72,
      "metadata": {
        "id": "lnz5Sn29UD28"
      },
      "outputs": [],
      "source": [
        "#Question3\n",
        "from sklearn.model_selection import train_test_split"
      ]
    },
    {
      "cell_type": "code",
      "source": [
        "data=pd.read_csv('housing1.csv')\n",
        "\n",
        "target_variable = 'median_income'\n",
        "\n",
        "features = data.drop(target_variable, axis=1)\n",
        "\n",
        "\n",
        "print(\"Features:\")\n",
        "print(features)\n",
        "print(\"\\nTarget Variable:\")\n",
        "print(data[target_variable])"
      ],
      "metadata": {
        "colab": {
          "base_uri": "https://localhost:8080/"
        },
        "id": "smqM2BQUhgqG",
        "outputId": "bf806ed4-9355-475d-f87e-c3d3d53c7413"
      },
      "execution_count": 76,
      "outputs": [
        {
          "output_type": "stream",
          "name": "stdout",
          "text": [
            "Features:\n",
            "       longitude  latitude  housing_median_age  total_rooms  total_bedrooms  \\\n",
            "0        -122.23     37.88                41.0        880.0           129.0   \n",
            "1        -122.22     37.86                21.0       7099.0          1106.0   \n",
            "2        -122.24     37.85                52.0       1467.0           190.0   \n",
            "3        -122.25     37.85                52.0       1274.0           235.0   \n",
            "4        -122.25     37.85                52.0       1627.0           280.0   \n",
            "...          ...       ...                 ...          ...             ...   \n",
            "20635    -121.09     39.48                25.0       1665.0           374.0   \n",
            "20636    -121.21     39.49                18.0        697.0           150.0   \n",
            "20637    -121.22     39.43                17.0       2254.0           485.0   \n",
            "20638    -121.32     39.43                18.0       1860.0           409.0   \n",
            "20639    -121.24     39.37                16.0       2785.0           616.0   \n",
            "\n",
            "       population  households  median_house_value ocean_proximity  \n",
            "0           322.0       126.0            452600.0        NEAR BAY  \n",
            "1          2401.0      1138.0            358500.0        NEAR BAY  \n",
            "2           496.0       177.0            352100.0        NEAR BAY  \n",
            "3           558.0       219.0            341300.0        NEAR BAY  \n",
            "4           565.0       259.0            342200.0        NEAR BAY  \n",
            "...           ...         ...                 ...             ...  \n",
            "20635       845.0       330.0             78100.0          INLAND  \n",
            "20636       356.0       114.0             77100.0          INLAND  \n",
            "20637      1007.0       433.0             92300.0          INLAND  \n",
            "20638       741.0       349.0             84700.0          INLAND  \n",
            "20639      1387.0       530.0             89400.0          INLAND  \n",
            "\n",
            "[20640 rows x 9 columns]\n",
            "\n",
            "Target Variable:\n",
            "0        8.3252\n",
            "1        8.3014\n",
            "2        7.2574\n",
            "3        5.6431\n",
            "4        3.8462\n",
            "          ...  \n",
            "20635    1.5603\n",
            "20636    2.5568\n",
            "20637    1.7000\n",
            "20638    1.8672\n",
            "20639    2.3886\n",
            "Name: median_income, Length: 20640, dtype: float64\n"
          ]
        }
      ]
    },
    {
      "cell_type": "code",
      "source": [
        "from sklearn.preprocessing import MinMaxScaler\n",
        "\n",
        "# Extract numerical columns for scaling (excluding non-numeric columns)\n",
        "numeric_columns = data.select_dtypes(include=['float64', 'int64']).columns\n",
        "\n",
        "# Create a copy of the DataFrame with only the numerical columns\n",
        "numeric_data = data[numeric_columns]\n",
        "\n",
        "# Apply Min-Max scaling to the entire numerical data\n",
        "scaler = MinMaxScaler()\n",
        "scaled_data = scaler.fit_transform(numeric_data)\n",
        "\n",
        "# Create a DataFrame with the scaled numerical data\n",
        "scaled_data_df = pd.DataFrame(scaled_data, columns=numeric_columns)\n",
        "\n",
        "# Display the normalized numerical data and other descriptive statistics\n",
        "print(\"\\nNormalized Numerical Data:\")\n",
        "print(scaled_data_df)\n",
        "print(\"\\nAdditional Descriptive Statistics:\")\n",
        "print(data.describe())"
      ],
      "metadata": {
        "colab": {
          "base_uri": "https://localhost:8080/"
        },
        "id": "AjWnqo53hram",
        "outputId": "c6b62ca1-13a0-4cc4-9570-14e365caf489"
      },
      "execution_count": 77,
      "outputs": [
        {
          "output_type": "stream",
          "name": "stdout",
          "text": [
            "\n",
            "Normalized Numerical Data:\n",
            "       longitude  latitude  housing_median_age  total_rooms  total_bedrooms  \\\n",
            "0       0.211155  0.567481            0.784314     0.022331        0.019863   \n",
            "1       0.212151  0.565356            0.392157     0.180503        0.171477   \n",
            "2       0.210159  0.564293            1.000000     0.037260        0.029330   \n",
            "3       0.209163  0.564293            1.000000     0.032352        0.036313   \n",
            "4       0.209163  0.564293            1.000000     0.041330        0.043296   \n",
            "...          ...       ...                 ...          ...             ...   \n",
            "20635   0.324701  0.737513            0.470588     0.042296        0.057883   \n",
            "20636   0.312749  0.738576            0.333333     0.017676        0.023122   \n",
            "20637   0.311753  0.732200            0.313725     0.057277        0.075109   \n",
            "20638   0.301793  0.732200            0.333333     0.047256        0.063315   \n",
            "20639   0.309761  0.725824            0.294118     0.070782        0.095438   \n",
            "\n",
            "       population  households  median_income  median_house_value  \n",
            "0        0.008941    0.020556       0.539668            0.902266  \n",
            "1        0.067210    0.186976       0.538027            0.708247  \n",
            "2        0.013818    0.028943       0.466028            0.695051  \n",
            "3        0.015555    0.035849       0.354699            0.672783  \n",
            "4        0.015752    0.042427       0.230776            0.674638  \n",
            "...           ...         ...            ...                 ...  \n",
            "20635    0.023599    0.054103       0.073130            0.130105  \n",
            "20636    0.009894    0.018582       0.141853            0.128043  \n",
            "20637    0.028140    0.071041       0.082764            0.159383  \n",
            "20638    0.020684    0.057227       0.094295            0.143713  \n",
            "20639    0.038790    0.086992       0.130253            0.153403  \n",
            "\n",
            "[20640 rows x 9 columns]\n",
            "\n",
            "Additional Descriptive Statistics:\n",
            "          longitude      latitude  housing_median_age   total_rooms  \\\n",
            "count  20640.000000  20640.000000        20640.000000  20640.000000   \n",
            "mean    -119.569704     35.631861           28.639486   2635.763081   \n",
            "std        2.003532      2.135952           12.585558   2181.615252   \n",
            "min     -124.350000     32.540000            1.000000      2.000000   \n",
            "25%     -121.800000     33.930000           18.000000   1447.750000   \n",
            "50%     -118.490000     34.260000           29.000000   2127.000000   \n",
            "75%     -118.010000     37.710000           37.000000   3148.000000   \n",
            "max     -114.310000     41.950000           52.000000  39320.000000   \n",
            "\n",
            "       total_bedrooms    population    households  median_income  \\\n",
            "count    20433.000000  20640.000000  20640.000000   20640.000000   \n",
            "mean       537.870553   1425.476744    499.539680       3.870671   \n",
            "std        421.385070   1132.462122    382.329753       1.899822   \n",
            "min          1.000000      3.000000      1.000000       0.499900   \n",
            "25%        296.000000    787.000000    280.000000       2.563400   \n",
            "50%        435.000000   1166.000000    409.000000       3.534800   \n",
            "75%        647.000000   1725.000000    605.000000       4.743250   \n",
            "max       6445.000000  35682.000000   6082.000000      15.000100   \n",
            "\n",
            "       median_house_value  \n",
            "count        20640.000000  \n",
            "mean        206855.816909  \n",
            "std         115395.615874  \n",
            "min          14999.000000  \n",
            "25%         119600.000000  \n",
            "50%         179700.000000  \n",
            "75%         264725.000000  \n",
            "max         500001.000000  \n"
          ]
        }
      ]
    },
    {
      "cell_type": "code",
      "source": [
        "import pandas as pd\n",
        "from sklearn.model_selection import train_test_split\n",
        "\n",
        "\n",
        "\n",
        "target = data[target_variable]\n",
        "\n",
        "\n",
        "X_train, X_test, y_train, y_test = train_test_split(features, target, test_size=0.2, random_state=42)\n",
        "\n",
        "\n",
        "print(\"Training set - Features shape:\", X_train.shape)\n",
        "print(\"Testing set - Features shape:\", X_test.shape)\n",
        "print(\"Training set - Target shape:\", y_train.shape)\n",
        "print(\"Testing set - Target shape:\", y_test.shape)"
      ],
      "metadata": {
        "colab": {
          "base_uri": "https://localhost:8080/"
        },
        "id": "hXa1H1xJhus5",
        "outputId": "488805c0-912c-4803-dc95-4443836c8bbc"
      },
      "execution_count": 78,
      "outputs": [
        {
          "output_type": "stream",
          "name": "stdout",
          "text": [
            "Training set - Features shape: (16512, 9)\n",
            "Testing set - Features shape: (4128, 9)\n",
            "Training set - Target shape: (16512,)\n",
            "Testing set - Target shape: (4128,)\n"
          ]
        }
      ]
    },
    {
      "cell_type": "code",
      "source": [],
      "metadata": {
        "id": "zHMRHxjpi_U_"
      },
      "execution_count": null,
      "outputs": []
    }
  ],
  "metadata": {
    "colab": {
      "provenance": []
    },
    "kernelspec": {
      "display_name": "Python 3",
      "name": "python3"
    },
    "language_info": {
      "name": "python"
    }
  },
  "nbformat": 4,
  "nbformat_minor": 0
}