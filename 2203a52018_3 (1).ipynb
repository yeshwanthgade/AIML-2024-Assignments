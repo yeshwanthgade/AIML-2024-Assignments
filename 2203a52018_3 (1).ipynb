{
  "nbformat": 4,
  "nbformat_minor": 0,
  "metadata": {
    "colab": {
      "provenance": []
    },
    "kernelspec": {
      "name": "python3",
      "display_name": "Python 3"
    },
    "language_info": {
      "name": "python"
    }
  },
  "cells": [
    {
      "cell_type": "code",
      "execution_count": 1,
      "metadata": {
        "id": "-B44l6EaQsCf"
      },
      "outputs": [],
      "source": [
        "#Question 1\n",
        "from collections import deque\n"
      ]
    },
    {
      "cell_type": "code",
      "source": [
        "def bfs(graph, start):\n",
        "    visited = set()\n",
        "    queue = deque([start])\n",
        "    visited.add(start)\n",
        "\n",
        "    while queue:\n",
        "        vertex = queue.popleft()\n",
        "        print(vertex, end=' ')\n",
        "\n",
        "        for neighbor in graph[vertex]:\n",
        "            if neighbor not in visited:\n",
        "                queue.append(neighbor)\n",
        "                visited.add(neighbor)\n"
      ],
      "metadata": {
        "id": "B-DQnDLPpOG9"
      },
      "execution_count": 2,
      "outputs": []
    },
    {
      "cell_type": "code",
      "source": [
        "graph={\n",
        "    0:[1, 3],\n",
        "    1:[0, 2, 3],\n",
        "    2:[1, 4, 5],\n",
        "    3:[0, 1, 4],\n",
        "    4:[2, 3, 5],\n",
        "    5:[2, 4]\n",
        "}\n"
      ],
      "metadata": {
        "id": "bJEn-LnOpV93"
      },
      "execution_count": 3,
      "outputs": []
    },
    {
      "cell_type": "code",
      "source": [
        "\n",
        "start_vertex = 0\n",
        "bfs(graph, start_vertex)\n",
        "\n"
      ],
      "metadata": {
        "colab": {
          "base_uri": "https://localhost:8080/"
        },
        "id": "yBjYhRlopZfH",
        "outputId": "ff980fcd-2ecf-4cbd-8af1-07ad878849ce"
      },
      "execution_count": 5,
      "outputs": [
        {
          "output_type": "stream",
          "name": "stdout",
          "text": [
            "0 1 3 2 4 5 "
          ]
        }
      ]
    },
    {
      "cell_type": "code",
      "source": [
        "#Question 2\n",
        "def dfs2(graph, start):\n",
        "    visited = set()\n",
        "    stack = [start]\n",
        "\n",
        "    while stack:\n",
        "        vertex = stack.pop()\n",
        "\n",
        "        if vertex not in visited:\n",
        "            print(vertex, end=' ')\n",
        "            visited.add(vertex)\n",
        "\n",
        "            stack.extend(neighbor for neighbor in graph[vertex] if neighbor not in visited)"
      ],
      "metadata": {
        "id": "7lE95vvHpbz0"
      },
      "execution_count": 6,
      "outputs": []
    },
    {
      "cell_type": "code",
      "source": [
        "graph = {\n",
        "    'A': ['B', 'S'],\n",
        "    'B': ['A'],\n",
        "    'C': ['D', 'E', 'F', 'S'],\n",
        "    'D': ['C'],\n",
        "    'E': ['C', 'H'],\n",
        "    'F': ['C', 'G'],\n",
        "    'G': ['F', 'H', 'S'],\n",
        "    'H': ['E', 'G'],\n",
        "    'S': ['A', 'C', 'G']\n",
        "}"
      ],
      "metadata": {
        "id": "6443XfYopn5B"
      },
      "execution_count": 7,
      "outputs": []
    },
    {
      "cell_type": "code",
      "source": [
        "start_vertex='A'\n",
        "dfs2(graph, start_vertex)"
      ],
      "metadata": {
        "colab": {
          "base_uri": "https://localhost:8080/"
        },
        "id": "H_VFo-2zpqLk",
        "outputId": "b411da0f-3bd6-4e2b-be2a-11cd8c6d5fe0"
      },
      "execution_count": 9,
      "outputs": [
        {
          "output_type": "stream",
          "name": "stdout",
          "text": [
            "A S G H E C F D B "
          ]
        }
      ]
    },
    {
      "cell_type": "code",
      "source": [
        "#Question 3\n",
        "import numpy as np\n",
        "from queue import PriorityQueue\n",
        "\n"
      ],
      "metadata": {
        "id": "QzW0iwd-pt-F"
      },
      "execution_count": 40,
      "outputs": []
    },
    {
      "cell_type": "code",
      "source": [
        "initial_state = np.array([[2, 8, 3],\n",
        "                          [1, 6, 4],\n",
        "                          [7, 0, 5]])\n",
        "\n",
        "goal_state = np.array([[1, 2, 3],\n",
        "                        [8, 0, 4],\n",
        "                        [7, 6, 5]])"
      ],
      "metadata": {
        "id": "rgDmu1h3rPPg"
      },
      "execution_count": 41,
      "outputs": []
    },
    {
      "cell_type": "code",
      "source": [
        "# Node class to represent states\n",
        "class Node:\n",
        "    def __init__(self, state, parent=None, g_score=0, h_score=0):\n",
        "        self.state = state\n",
        "        self.parent = parent\n",
        "        self.g_score = g_score\n",
        "        self.h_score = h_score\n",
        "        self.f_score = g_score + h_score\n",
        "\n",
        "    def __lt__(self, other):\n",
        "        return self.f_score < other.f_score\n"
      ],
      "metadata": {
        "id": "kz599n4RrS8d"
      },
      "execution_count": 50,
      "outputs": []
    },
    {
      "cell_type": "code",
      "source": [
        "def heuristic(state):\n",
        "    return np.sum(state != goal_state)"
      ],
      "metadata": {
        "id": "F0Z_l1ywrWi2"
      },
      "execution_count": 51,
      "outputs": []
    },
    {
      "cell_type": "code",
      "source": [
        "def get_successors(state):\n",
        "    successors = []\n",
        "    zero_position = np.argwhere(state == 0)[0]\n",
        "\n",
        "    for action in [(0, 1), (1, 0), (0, -1), (-1, 0)]:\n",
        "        new_position = zero_position + action\n",
        "        if np.all(new_position >= 0) and np.all(new_position < state.shape):\n",
        "            new_state = state.copy()\n",
        "            new_state[zero_position[0], zero_position[1]] = state[new_position[0], new_position[1]]\n",
        "            new_state[new_position[0], new_position[1]] = 0\n",
        "            successors.append(new_state)\n",
        "\n",
        "    return successors\n"
      ],
      "metadata": {
        "id": "Pvi4G2jnrerW"
      },
      "execution_count": 52,
      "outputs": []
    },
    {
      "cell_type": "code",
      "source": [
        "def astar(start_state, goal_state, heuristic):\n",
        "    priority_queue = PriorityQueue()\n",
        "    priority_queue.put((0, Node(start_state)))\n",
        "\n",
        "    while not priority_queue.empty():\n",
        "        _, current_node = priority_queue.get()\n",
        "\n",
        "        if np.array_equal(current_node.state, goal_state):\n",
        "            # Goal state reached, reconstruct path\n",
        "            path = []\n",
        "            while current_node:\n",
        "                path.append(current_node.state)\n",
        "                current_node = current_node.parent\n",
        "            return path[::-1]\n",
        "\n",
        "        for successor_state in get_successors(current_node.state):\n",
        "            new_cost = current_node.g_score + 1\n",
        "            new_node = Node(successor_state, parent=current_node, g_score=new_cost, h_score=heuristic(successor_state))\n",
        "            priority_queue.put((new_node.f_score, new_node))\n",
        "\n",
        "    return None"
      ],
      "metadata": {
        "id": "AOBYdZmhsNGy"
      },
      "execution_count": 53,
      "outputs": []
    },
    {
      "cell_type": "code",
      "source": [
        "result_path = astar(initial_state, goal_state, heuristic)\n",
        "\n",
        "# Printing result\n",
        "if result_path is not None:\n",
        "    print(\"Solution found:\")\n",
        "    for state in result_path:\n",
        "        print(state)\n",
        "else:\n",
        "    print(\"Goal state is not reachable.\")"
      ],
      "metadata": {
        "colab": {
          "base_uri": "https://localhost:8080/"
        },
        "id": "dYM7J4XguPSn",
        "outputId": "4dd3b353-7153-461a-e1b0-5dc2215ba58d"
      },
      "execution_count": 54,
      "outputs": [
        {
          "output_type": "stream",
          "name": "stdout",
          "text": [
            "Solution found:\n",
            "[[2 8 3]\n",
            " [1 6 4]\n",
            " [7 0 5]]\n",
            "[[2 8 3]\n",
            " [1 0 4]\n",
            " [7 6 5]]\n",
            "[[2 0 3]\n",
            " [1 8 4]\n",
            " [7 6 5]]\n",
            "[[0 2 3]\n",
            " [1 8 4]\n",
            " [7 6 5]]\n",
            "[[1 2 3]\n",
            " [0 8 4]\n",
            " [7 6 5]]\n",
            "[[1 2 3]\n",
            " [8 0 4]\n",
            " [7 6 5]]\n"
          ]
        }
      ]
    },
    {
      "cell_type": "code",
      "source": [],
      "metadata": {
        "id": "UJ3tVwrtuSee"
      },
      "execution_count": null,
      "outputs": []
    }
  ]
}