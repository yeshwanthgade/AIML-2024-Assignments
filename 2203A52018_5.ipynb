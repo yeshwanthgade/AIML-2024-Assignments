{
  "nbformat": 4,
  "nbformat_minor": 0,
  "metadata": {
    "colab": {
      "provenance": []
    },
    "kernelspec": {
      "name": "python3",
      "display_name": "Python 3"
    },
    "language_info": {
      "name": "python"
    }
  },
  "cells": [
    {
      "cell_type": "code",
      "execution_count": 1,
      "metadata": {
        "id": "BRYY6bz2b6Ky"
      },
      "outputs": [],
      "source": [
        "#Question 1:\n",
        "import pandas as pd\n",
        "import numpy as np"
      ]
    },
    {
      "cell_type": "code",
      "source": [
        "data = pd.read_csv('housing.csv')\n",
        "print(\"Data Description:\\n\", data.describe())"
      ],
      "metadata": {
        "colab": {
          "base_uri": "https://localhost:8080/"
        },
        "id": "WxfLWZG_cNSW",
        "outputId": "27d4b4c8-52cb-410c-ed7b-0bd0a2a9befe"
      },
      "execution_count": 5,
      "outputs": [
        {
          "output_type": "stream",
          "name": "stdout",
          "text": [
            "Data Description:\n",
            "           longitude      latitude  housing_median_age   total_rooms  \\\n",
            "count  20640.000000  20640.000000        20640.000000  20640.000000   \n",
            "mean    -119.569704     35.631861           28.639486   2635.763081   \n",
            "std        2.003532      2.135952           12.585558   2181.615252   \n",
            "min     -124.350000     32.540000            1.000000      2.000000   \n",
            "25%     -121.800000     33.930000           18.000000   1447.750000   \n",
            "50%     -118.490000     34.260000           29.000000   2127.000000   \n",
            "75%     -118.010000     37.710000           37.000000   3148.000000   \n",
            "max     -114.310000     41.950000           52.000000  39320.000000   \n",
            "\n",
            "       total_bedrooms    population    households  median_income  \\\n",
            "count    20433.000000  20640.000000  20640.000000   20640.000000   \n",
            "mean       537.870553   1425.476744    499.539680       3.870671   \n",
            "std        421.385070   1132.462122    382.329753       1.899822   \n",
            "min          1.000000      3.000000      1.000000       0.499900   \n",
            "25%        296.000000    787.000000    280.000000       2.563400   \n",
            "50%        435.000000   1166.000000    409.000000       3.534800   \n",
            "75%        647.000000   1725.000000    605.000000       4.743250   \n",
            "max       6445.000000  35682.000000   6082.000000      15.000100   \n",
            "\n",
            "       median_house_value  \n",
            "count        20640.000000  \n",
            "mean        206855.816909  \n",
            "std         115395.615874  \n",
            "min          14999.000000  \n",
            "25%         119600.000000  \n",
            "50%         179700.000000  \n",
            "75%         264725.000000  \n",
            "max         500001.000000  \n"
          ]
        }
      ]
    },
    {
      "cell_type": "code",
      "source": [
        "for column in data.columns:\n",
        "    print(f\"Column: {column}\")\n",
        "    print(f\"Data Type: {data[column].dtype}\")\n",
        "    print(f\"Shape: {data[column].shape}\")\n",
        "    print()"
      ],
      "metadata": {
        "colab": {
          "base_uri": "https://localhost:8080/"
        },
        "id": "OSfj0sPJcbeU",
        "outputId": "4fa75734-92a3-4a16-d4d9-d585b7b6d1ae"
      },
      "execution_count": 6,
      "outputs": [
        {
          "output_type": "stream",
          "name": "stdout",
          "text": [
            "Column: longitude\n",
            "Data Type: float64\n",
            "Shape: (20640,)\n",
            "\n",
            "Column: latitude\n",
            "Data Type: float64\n",
            "Shape: (20640,)\n",
            "\n",
            "Column: housing_median_age\n",
            "Data Type: float64\n",
            "Shape: (20640,)\n",
            "\n",
            "Column: total_rooms\n",
            "Data Type: float64\n",
            "Shape: (20640,)\n",
            "\n",
            "Column: total_bedrooms\n",
            "Data Type: float64\n",
            "Shape: (20640,)\n",
            "\n",
            "Column: population\n",
            "Data Type: float64\n",
            "Shape: (20640,)\n",
            "\n",
            "Column: households\n",
            "Data Type: float64\n",
            "Shape: (20640,)\n",
            "\n",
            "Column: median_income\n",
            "Data Type: float64\n",
            "Shape: (20640,)\n",
            "\n",
            "Column: median_house_value\n",
            "Data Type: float64\n",
            "Shape: (20640,)\n",
            "\n",
            "Column: ocean_proximity\n",
            "Data Type: object\n",
            "Shape: (20640,)\n",
            "\n"
          ]
        }
      ]
    },
    {
      "cell_type": "code",
      "source": [
        "for column in data.columns:\n",
        "    if data[column].isnull().any():\n",
        "        print(f\"Column: {column} has null values\")\n",
        "        data[column].fillna(data[column].mean(), inplace=True)\n",
        "    else:\n",
        "        print(f\"Column: {column} has no null values\")"
      ],
      "metadata": {
        "colab": {
          "base_uri": "https://localhost:8080/"
        },
        "id": "4M9Sregyc7zJ",
        "outputId": "76f82492-4a39-4443-8bf0-29311296a2a2"
      },
      "execution_count": 7,
      "outputs": [
        {
          "output_type": "stream",
          "name": "stdout",
          "text": [
            "Column: longitude has no null values\n",
            "Column: latitude has no null values\n",
            "Column: housing_median_age has no null values\n",
            "Column: total_rooms has no null values\n",
            "Column: total_bedrooms has null values\n",
            "Column: population has no null values\n",
            "Column: households has no null values\n",
            "Column: median_income has no null values\n",
            "Column: median_house_value has no null values\n",
            "Column: ocean_proximity has no null values\n"
          ]
        }
      ]
    },
    {
      "cell_type": "code",
      "source": [
        "#Question 3:\n",
        "from sklearn.model_selection import train_test_split\n",
        "from sklearn.preprocessing import MinMaxScaler, OneHotEncoder\n",
        "from sklearn.linear_model import LinearRegression\n",
        "from sklearn.metrics import mean_squared_error\n",
        "from sklearn.compose import make_column_transformer\n",
        "from sklearn.pipeline import make_pipeline\n"
      ],
      "metadata": {
        "id": "o6caXYMtdCk9"
      },
      "execution_count": 11,
      "outputs": []
    },
    {
      "cell_type": "code",
      "source": [
        "features = data.drop('median_house_value', axis=1)\n",
        "target = data['median_house_value']"
      ],
      "metadata": {
        "id": "IsZHne-Fd_Bc"
      },
      "execution_count": 12,
      "outputs": []
    },
    {
      "cell_type": "code",
      "source": [
        "categorical = features.dtypes == object\n",
        "preprocess = make_column_transformer(\n",
        "    (MinMaxScaler(), ~categorical),\n",
        "    (OneHotEncoder(), categorical))\n"
      ],
      "metadata": {
        "id": "tZPu1RvCeLoN"
      },
      "execution_count": 13,
      "outputs": []
    },
    {
      "cell_type": "code",
      "source": [
        "features_scaled = preprocess.fit_transform(features)"
      ],
      "metadata": {
        "id": "SRJ5fTvwePMv"
      },
      "execution_count": 14,
      "outputs": []
    },
    {
      "cell_type": "code",
      "source": [
        "X_train, X_test, y_train, y_test = train_test_split(features_scaled, target, test_size=0.2, random_state=42)"
      ],
      "metadata": {
        "id": "l72FNJ3lez71"
      },
      "execution_count": 15,
      "outputs": []
    },
    {
      "cell_type": "code",
      "source": [
        "model = LinearRegression()\n",
        "model.fit(X_train, y_train)\n",
        "predictions = model.predict(X_test)\n",
        "mse = mean_squared_error(y_test, predictions)\n",
        "print(\"Mean Squared Error: \", mse)\n",
        "print(\"Coefficients: \", model.coef_)"
      ],
      "metadata": {
        "colab": {
          "base_uri": "https://localhost:8080/"
        },
        "id": "uPSkC9yfe2q4",
        "outputId": "46585f7e-8d54-4348-daa5-76d9d8c1ff54"
      },
      "execution_count": 16,
      "outputs": [
        {
          "output_type": "stream",
          "name": "stdout",
          "text": [
            "Mean Squared Error:  4904399775.949274\n",
            "Coefficients:  [ -269456.26465959  -239657.19278936    56211.43928254  -236753.55975715\n",
            "   662374.86390017 -1361971.12838034   293424.98969761   572380.53483714\n",
            "   -18926.58286195   -58713.23902328   117198.48975346   -24063.22507943\n",
            "   -15495.4427888 ]\n"
          ]
        }
      ]
    },
    {
      "cell_type": "code",
      "source": [],
      "metadata": {
        "id": "2P_1KvXHe49P"
      },
      "execution_count": null,
      "outputs": []
    }
  ]
}