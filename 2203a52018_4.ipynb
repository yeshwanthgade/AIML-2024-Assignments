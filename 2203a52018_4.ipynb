{
  "nbformat": 4,
  "nbformat_minor": 0,
  "metadata": {
    "colab": {
      "provenance": []
    },
    "kernelspec": {
      "name": "python3",
      "display_name": "Python 3"
    },
    "language_info": {
      "name": "python"
    }
  },
  "cells": [
    {
      "cell_type": "code",
      "source": [
        "def minmax(depth, node_index, maximizing_player, values):\n",
        "    if depth == 3:\n",
        "        return values[node_index]\n",
        "\n",
        "    if maximizing_player:\n",
        "        return max(minmax(depth + 1, node_index * 2, False, values),\n",
        "                   minmax(depth + 1, node_index * 2 + 1, False, values))\n",
        "    else:\n",
        "        return min(minmax(depth + 1, node_index * 2, True, values),\n",
        "                   minmax(depth + 1, node_index * 2 + 1, True, values))\n",
        "\n"
      ],
      "metadata": {
        "id": "bZDDDU3Fbk1F"
      },
      "execution_count": 22,
      "outputs": []
    },
    {
      "cell_type": "code",
      "source": [
        "values = [-1 ,4 ,2 ,6 ,-3 ,-5 ,0 ,7]\n",
        "print(\"The optimal value is :\", minmax(0,0,True,values))"
      ],
      "metadata": {
        "id": "ItbMsgsPbldZ",
        "outputId": "9a9e0933-9eff-466f-8a92-a3790e204112",
        "colab": {
          "base_uri": "https://localhost:8080/"
        }
      },
      "execution_count": 25,
      "outputs": [
        {
          "output_type": "stream",
          "name": "stdout",
          "text": [
            "The optimal value is : 4\n"
          ]
        }
      ]
    },
    {
      "cell_type": "code",
      "source": [
        "def alphabeta(depth, node_index, maximizing_player, values, alpha, beta):\n",
        "    if depth == 3:\n",
        "        return values[node_index]\n",
        "\n",
        "    if maximizing_player:\n",
        "        max_val = -float('inf')\n",
        "        for i in range(0, 2):\n",
        "            val = alphabeta(depth + 1, node_index * 2 + i, False, values, alpha, beta)\n",
        "            max_val = max(max_val, val)\n",
        "            alpha = max(alpha, max_val)\n",
        "            if beta <= alpha:\n",
        "                break\n",
        "        return max_val\n",
        "    else:\n",
        "        min_val = float('inf')\n",
        "        for i in range(0, 2):\n",
        "            val = alphabeta(depth + 1, node_index * 2 + i, True, values, alpha, beta)\n",
        "            min_val = min(min_val, val)\n",
        "            beta = min(beta, min_val)\n",
        "            if beta <= alpha:\n",
        "                break\n",
        "        return min_val\n"
      ],
      "metadata": {
        "id": "KCRdn-WNbpE1"
      },
      "execution_count": 26,
      "outputs": []
    },
    {
      "cell_type": "code",
      "source": [
        "values = [-1 ,4 ,2 ,6 ,-3 ,-5 ,0 ,7]\n",
        "print(\"The optimal value is :\", alphabeta(0 ,0 ,True ,values, -float('inf'),float('inf')))"
      ],
      "metadata": {
        "id": "TQyAKQzcdrtB",
        "outputId": "c966b8c9-8ca8-4942-c380-c669fe5f71d7",
        "colab": {
          "base_uri": "https://localhost:8080/"
        }
      },
      "execution_count": 28,
      "outputs": [
        {
          "output_type": "stream",
          "name": "stdout",
          "text": [
            "The optimal value is : 4\n"
          ]
        }
      ]
    },
    {
      "cell_type": "code",
      "source": [],
      "metadata": {
        "id": "jny6Btvkdvco"
      },
      "execution_count": null,
      "outputs": []
    }
  ]
}